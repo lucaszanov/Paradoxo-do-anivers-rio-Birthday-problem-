{
  "nbformat": 4,
  "nbformat_minor": 0,
  "metadata": {
    "colab": {
      "provenance": [],
      "collapsed_sections": []
    },
    "kernelspec": {
      "name": "python3",
      "display_name": "Python 3"
    },
    "language_info": {
      "name": "python"
    }
  },
  "cells": [
    {
      "cell_type": "markdown",
      "source": [
        "# Problema dos aniversários"
      ],
      "metadata": {
        "id": "o5OcN57brFsN"
      }
    },
    {
      "cell_type": "markdown",
      "source": [
        "Suponha que se queira descobrir qual a probabilidade de duas pessoas fazerem aniversário no mesmo dia em uma sala com $n$ pessoas."
      ],
      "metadata": {
        "id": "zxwLENMurIce"
      }
    },
    {
      "cell_type": "markdown",
      "source": [
        "A resolução desse problema se dá pelo cálculo da probabilidade do evento complementar, ou seja, a probabilidade de duas pessoas **não** fazerem aniversário no mesmo dia ($\\bar{p}(n)$). Aqui iremos considerar 1 ano com 365 dias.\n",
        "\n",
        "$  \\bar{p}(n) =  1 \\left( 1-\\frac{1}{365}\\right) \\left( 1-\\frac{2}{365}\\right) ...  = \\frac{365}{365} \\frac{364}{365} \\frac{363}{365} ... \\frac{(365-n+1)}{365}$\n",
        "\n",
        "Aplicando propriedade de fatorial:\n",
        "\n",
        "$  \\bar{p}(n) = \\frac{365!}{365^n (365-n)!}   $ "
      ],
      "metadata": {
        "id": "kutsOAFjrXEG"
      }
    },
    {
      "cell_type": "markdown",
      "source": [
        "Vamos agora verificar como se dá o comportamento da probabilidade $p(n) = 1-\\bar{p}(n)$, que é a probabilidade que buscamos, isto é, a probabilidade de duas pessoas fazerem aniversário no mesmo dia em um grupo com $n$ pessoas."
      ],
      "metadata": {
        "id": "dNJRDrqWsooI"
      }
    },
    {
      "cell_type": "code",
      "execution_count": 1,
      "metadata": {
        "id": "xOQUjPmZrEB_"
      },
      "outputs": [],
      "source": [
        "import numpy as np\n",
        "import matplotlib.pyplot as plt"
      ]
    },
    {
      "cell_type": "code",
      "source": [
        "n_array = np.arange(1,365,1)\n",
        "p = np.zeros(len(n_array))\n",
        "for i in range(0,len(n_array)):\n",
        "  aux=365.0**(-n_array[i])\n",
        "  for j in range((366-n_array[i]),366):\n",
        "    aux *= j\n",
        "  p[i]=1-aux"
      ],
      "metadata": {
        "id": "T0ZCUjRPs7XC"
      },
      "execution_count": 54,
      "outputs": []
    },
    {
      "cell_type": "code",
      "source": [
        "plt.figure(figsize=(10,6))\n",
        "plt.plot(n_array,p)\n",
        "plt.xlabel(\"$n$\")\n",
        "plt.ylabel(\"$p(n)$\")\n",
        "plt.grid()\n",
        "plt.show()"
      ],
      "metadata": {
        "colab": {
          "base_uri": "https://localhost:8080/",
          "height": 388
        },
        "id": "Xyzb5wGOwjIm",
        "outputId": "d877afcd-71c6-431d-bcc9-44f95da8e040"
      },
      "execution_count": 56,
      "outputs": [
        {
          "output_type": "display_data",
          "data": {
            "text/plain": [
              "<Figure size 720x432 with 1 Axes>"
            ],
            "image/png": "[encoded data removed]"
          },
          "metadata": {
            "needs_background": "light"
          }
        }
      ]
    },
    {
      "cell_type": "markdown",
      "source": [
        "Nota-se que próximo de $n$ = 50, ou seja, em uma sala com 50 pessoas, a probabilidade de duas pessoas fazerem aniversário no mesmo dia é extremamente alta, a saber:"
      ],
      "metadata": {
        "id": "n60NwR1_0hGY"
      }
    },
    {
      "cell_type": "code",
      "source": [
        "p[50]"
      ],
      "metadata": {
        "colab": {
          "base_uri": "https://localhost:8080/"
        },
        "id": "hJdXOHsl0qXZ",
        "outputId": "75760552-8718-4127-c0dd-63a6c34e0c57"
      },
      "execution_count": 57,
      "outputs": [
        {
          "output_type": "execute_result",
          "data": {
            "text/plain": [
              "0.9744319933344283"
            ]
          },
          "metadata": {},
          "execution_count": 57
        }
      ]
    },
    {
      "cell_type": "markdown",
      "source": [
        "Aproximadamente $97.5 \\%$ de chance desse evento ocorrer."
      ],
      "metadata": {
        "id": "hCDR5E1O0vGM"
      }
    }
  ]
}